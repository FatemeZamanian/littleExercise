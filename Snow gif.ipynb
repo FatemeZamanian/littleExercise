{
 "cells": [
  {
   "cell_type": "code",
   "execution_count": 3,
   "id": "000c10a5-b381-4953-845b-65f565c2b1eb",
   "metadata": {},
   "outputs": [],
   "source": [
    "import random\n",
    "import cv2\n",
    "import numpy\n",
    "import imageio"
   ]
  },
  {
   "cell_type": "code",
   "execution_count": 4,
   "id": "668644b2-b7cb-45cb-9428-df589bf290b1",
   "metadata": {},
   "outputs": [],
   "source": [
    "class Snow:\n",
    "    def __init__(self,img):\n",
    "        _,self.col,_=img.shape\n",
    "        self.y=random.randint(-10,0)\n",
    "        self.x=random.randint(0,self.col)\n",
    "        self.speed=4\n",
    "        self.r=random.randint(0,3)\n",
    "        self.direction=random.choice(['rtl','ltr'])\n",
    "    \n",
    "    def fly(self):\n",
    "        self.y+=self.speed\n",
    "        if self.direction=='ltr':\n",
    "            self.x+=self.speed//2\n",
    "        elif self.direction=='rtl':\n",
    "            self.x-=self.speed//2"
   ]
  },
  {
   "cell_type": "code",
   "execution_count": 5,
   "id": "df663e40-108a-47fc-9c05-d3edfeab8a45",
   "metadata": {},
   "outputs": [],
   "source": [
    "images = []\n",
    "snows=[]\n",
    "img=cv2.imread('/home/fateme/Desktop/snow.jpeg')\n",
    "for j in range(100):\n",
    "    img=cv2.imread('/home/fateme/Desktop/snow.jpeg')\n",
    "    for _ in range(20):\n",
    "        if random.random()>0.6:\n",
    "            snows.append(Snow(img))\n",
    "    for sn in snows:\n",
    "        sn.fly()\n",
    "        img=cv2.circle(img,(sn.x,sn.y), sn.r,(255,255,255),-1)\n",
    "#         sn.speed+=1\n",
    "    img=cv2.cvtColor(img, cv2.COLOR_BGR2RGB)\n",
    "    images.append(img)\n",
    "    \n"
   ]
  },
  {
   "cell_type": "code",
   "execution_count": 6,
   "id": "557e8e78-646d-4d56-a12b-5d82ef2cf6db",
   "metadata": {},
   "outputs": [],
   "source": [
    "imageio.mimwrite('animated_noise.gif', images)"
   ]
  }
 ],
 "metadata": {
  "kernelspec": {
   "display_name": "Python 3 (ipykernel)",
   "language": "python",
   "name": "python3"
  },
  "language_info": {
   "codemirror_mode": {
    "name": "ipython",
    "version": 3
   },
   "file_extension": ".py",
   "mimetype": "text/x-python",
   "name": "python",
   "nbconvert_exporter": "python",
   "pygments_lexer": "ipython3",
   "version": "3.8.10"
  }
 },
 "nbformat": 4,
 "nbformat_minor": 5
}
